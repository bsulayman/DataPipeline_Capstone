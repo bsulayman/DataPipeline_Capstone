{
 "cells": [
  {
   "cell_type": "markdown",
   "metadata": {
    "editable": true
   },
   "source": [
    "# Project Title\n",
    "### Data Engineering Capstone Project\n",
    "\n",
    "#### Project Summary\n",
    "--describe your project at a high level--\n",
    "\n",
    "The project follows the follow steps:\n",
    "* Step 1: Scope the Project and Gather Data\n",
    "* Step 2: Explore and Assess the Data\n",
    "* Step 3: Define the Data Model\n",
    "* Step 4: Run ETL to Model the Data\n",
    "* Step 5: Complete Project Write Up"
   ]
  },
  {
   "cell_type": "code",
   "execution_count": 1,
   "metadata": {
    "editable": true
   },
   "outputs": [],
   "source": [
    "# Do all imports and installs here\n",
    "import pandas as pd\n",
    "from pyspark.sql import SparkSession\n",
    "from pyspark.sql.types import DateType, StructType, StructField, StringType, IntegerType, LongType, FloatType, DoubleType, TimestampType\n",
    "from pathlib import Path\n",
    "from pyspark.sql.functions import to_date, col, udf, unix_timestamp, year, month\n",
    "from datetime import datetime, timedelta\n",
    "from pyspark.sql import SparkSession, types as T"
   ]
  },
  {
   "cell_type": "markdown",
   "metadata": {
    "editable": true
   },
   "source": [
    "### Step 1: Scope the Project and Gather Data\n",
    "\n",
    "#### Scope \n",
    "Explain what you plan to do in the project in more detail. What data do you use? What is your end solution look like? What tools did you use? etc>\n",
    "\n",
    "#### Describe and Gather Data \n",
    "Describe the data sets you're using. Where did it come from? What type of information is included? "
   ]
  },
  {
   "cell_type": "code",
   "execution_count": 3,
   "metadata": {
    "editable": true
   },
   "outputs": [
    {
     "name": "stdout",
     "output_type": "stream",
     "text": [
      "+------+------+------+-------+-------+-------+------+-------+-------+------+--------+------------+-----+----+\n",
      "| cicid|i94cit|i94res|arrdate|i94mode|i94addr|i94bir|i94visa|biryear|gender|visatype|arrival_date|month|year|\n",
      "+------+------+------+-------+-------+-------+------+-------+-------+------+--------+------------+-----+----+\n",
      "| 150.0| 103.0| 103.0|20606.0|    1.0|     KY|  58.0|    2.0| 1958.0|     F|      WT|  2016-06-01|    6|2016|\n",
      "| 160.0| 103.0| 103.0|20606.0|    1.0|     NY|  63.0|    2.0| 1953.0|     F|      WT|  2016-06-01|    6|2016|\n",
      "| 422.0| 103.0| 103.0|20606.0|    1.0|     CA|  73.0|    2.0| 1943.0|     M|      WT|  2016-06-01|    6|2016|\n",
      "| 769.0| 104.0| 104.0|20606.0|    1.0|     LA|  47.0|    1.0| 1969.0|     M|      WB|  2016-06-01|    6|2016|\n",
      "|1035.0| 104.0| 104.0|20606.0|    1.0|     NV|  29.0|    2.0| 1987.0|     M|      WT|  2016-06-01|    6|2016|\n",
      "|1246.0| 104.0| 121.0|20606.0|    1.0|     TX|  45.0|    1.0| 1971.0|     M|      WB|  2016-06-01|    6|2016|\n",
      "|1263.0| 104.0| 131.0|20606.0|    1.0|     MA|  55.0|    2.0| 1961.0|     F|      WT|  2016-06-01|    6|2016|\n",
      "|1289.0| 104.0| 438.0|20606.0|    1.0|     CA|  38.0|    2.0| 1978.0|     F|      WT|  2016-06-01|    6|2016|\n",
      "|1328.0| 104.0| 104.0|20606.0|    1.0|     NY|  67.0|    2.0| 1949.0|  null|      WT|  2016-06-01|    6|2016|\n",
      "|1799.0| 107.0| 107.0|20606.0|    1.0|     NY|  26.0|    2.0| 1990.0|     F|      B2|  2016-06-01|    6|2016|\n",
      "|2406.0| 107.0| 131.0|20606.0|    1.0|     IL|  35.0|    1.0| 1981.0|     F|      B1|  2016-06-01|    6|2016|\n",
      "|2435.0| 107.0| 107.0|20606.0|    1.0|     IL|  33.0|    2.0| 1983.0|     M|      B2|  2016-06-01|    6|2016|\n",
      "|2707.0| 108.0| 108.0|20606.0|    1.0|     NY|  72.0|    2.0| 1944.0|     M|      WT|  2016-06-01|    6|2016|\n",
      "|3816.0| 111.0| 111.0|20606.0|    1.0|     GA|  61.0|    2.0| 1955.0|     F|      WT|  2016-06-01|    6|2016|\n",
      "|3851.0| 111.0| 111.0|20606.0|    1.0|     GA|  58.0|    2.0| 1958.0|  null|      WT|  2016-06-01|    6|2016|\n",
      "|4098.0| 111.0| 111.0|20606.0|    1.0|     CO|  36.0|    2.0| 1980.0|  null|      WT|  2016-06-01|    6|2016|\n",
      "|4259.0| 111.0| 111.0|20606.0|    1.0|     GA|  47.0|    1.0| 1969.0|     M|      WB|  2016-06-01|    6|2016|\n",
      "|4301.0| 111.0| 111.0|20606.0|    1.0|     NJ|   3.0|    2.0| 2013.0|     M|      WT|  2016-06-01|    6|2016|\n",
      "|4340.0| 111.0| 111.0|20606.0|    1.0|     NY|  53.0|    2.0| 1963.0|     F|      WT|  2016-06-01|    6|2016|\n",
      "|4524.0| 111.0| 111.0|20606.0|    1.0|     FL|   1.0|    2.0| 2015.0|     M|      WT|  2016-06-01|    6|2016|\n",
      "+------+------+------+-------+-------+-------+------+-------+-------+------+--------+------------+-----+----+\n",
      "only showing top 20 rows\n",
      "\n"
     ]
    }
   ],
   "source": []
  },
  {
   "cell_type": "code",
   "execution_count": 6,
   "metadata": {
    "editable": true
   },
   "outputs": [
    {
     "name": "stdout",
     "output_type": "stream",
     "text": [
      "+-------+-----+-------------------+\n",
      "|  state|month|      avg(avg_temp)|\n",
      "+-------+-----+-------------------+\n",
      "|Alabama|    1|             8.0416|\n",
      "|Alabama|    2|             8.8607|\n",
      "|Alabama|    3|            13.8988|\n",
      "|Alabama|    4|            17.6461|\n",
      "|Alabama|    5|            22.1576|\n",
      "|Alabama|    6|            26.3942|\n",
      "|Alabama|    7|            27.3377|\n",
      "|Alabama|    8|            27.2846|\n",
      "|Alabama|    9|            24.2943|\n",
      "|Alabama|   10|  17.98455555555556|\n",
      "|Alabama|   11| 12.732333333333331|\n",
      "|Alabama|   12|  8.659111111111109|\n",
      "| Alaska|    1|           -19.6299|\n",
      "| Alaska|    2|-15.603199999999998|\n",
      "| Alaska|    3|-14.418899999999999|\n",
      "| Alaska|    4|            -5.1931|\n",
      "| Alaska|    5|              4.236|\n",
      "| Alaska|    6|            10.6349|\n",
      "| Alaska|    7|            12.3429|\n",
      "| Alaska|    8| 10.526800000000001|\n",
      "+-------+-----+-------------------+\n",
      "only showing top 20 rows\n",
      "\n"
     ]
    }
   ],
   "source": []
  },
  {
   "cell_type": "code",
   "execution_count": null,
   "metadata": {
    "editable": true
   },
   "outputs": [],
   "source": [
    "\t\n",
    "from pyspark.sql import SparkSession\n",
    "spark = SparkSession.builder.\\\n",
    "config(\"spark.jars.packages\",\"saurfang:spark-sas7bdat:2.0.0-s_2.11\")\\\n",
    ".enableHiveSupport().getOrCreate()\n",
    "df_spark =spark.read.format('com.github.saurfang.sas.spark').load('../../data/18-83510-I94-Data-2016/i94_apr16_sub.sas7bdat')\n"
   ]
  },
  {
   "cell_type": "code",
   "execution_count": null,
   "metadata": {
    "editable": true
   },
   "outputs": [],
   "source": [
    "#write to parquet\n",
    "df_spark.write.parquet(\"sas_data\")\n",
    "df_spark=spark.read.parquet(\"sas_data\")"
   ]
  },
  {
   "cell_type": "markdown",
   "metadata": {
    "editable": true
   },
   "source": [
    "### Step 2: Explore and Assess the Data\n",
    "#### Explore the Data \n",
    "Identify data quality issues, like missing values, duplicate data, etc.\n",
    "\n",
    "#### Cleaning Steps\n",
    "Document steps necessary to clean the data"
   ]
  },
  {
   "cell_type": "code",
   "execution_count": null,
   "metadata": {
    "editable": true
   },
   "outputs": [],
   "source": [
    "# Performing cleaning tasks here\n",
    "\n",
    "\n",
    "\n"
   ]
  },
  {
   "cell_type": "markdown",
   "metadata": {
    "editable": true
   },
   "source": [
    "### Step 3: Define the Data Model\n",
    "#### 3.1 Conceptual Data Model\n",
    "Map out the conceptual data model and explain why you chose that model\n",
    "\n",
    "#### 3.2 Mapping Out Data Pipelines\n",
    "List the steps necessary to pipeline the data into the chosen data model"
   ]
  },
  {
   "cell_type": "markdown",
   "metadata": {
    "editable": true
   },
   "source": [
    "### Step 4: Run Pipelines to Model the Data \n",
    "#### 4.1 Create the data model\n",
    "Build the data pipelines to create the data model."
   ]
  },
  {
   "cell_type": "code",
   "execution_count": null,
   "metadata": {
    "editable": true
   },
   "outputs": [],
   "source": [
    "# Write code here"
   ]
  },
  {
   "cell_type": "markdown",
   "metadata": {
    "editable": true
   },
   "source": [
    "#### 4.2 Data Quality Checks\n",
    "Explain the data quality checks you'll perform to ensure the pipeline ran as expected. These could include:\n",
    " * Integrity constraints on the relational database (e.g., unique key, data type, etc.)\n",
    " * Unit tests for the scripts to ensure they are doing the right thing\n",
    " * Source/Count checks to ensure completeness\n",
    " \n",
    "Run Quality Checks"
   ]
  },
  {
   "cell_type": "code",
   "execution_count": null,
   "metadata": {
    "editable": true
   },
   "outputs": [],
   "source": [
    "# Perform quality checks here"
   ]
  },
  {
   "cell_type": "markdown",
   "metadata": {
    "editable": true
   },
   "source": [
    "#### 4.3 Data dictionary \n",
    "Create a data dictionary for your data model. For each field, provide a brief description of what the data is and where it came from. You can include the data dictionary in the notebook or in a separate file."
   ]
  },
  {
   "cell_type": "markdown",
   "metadata": {
    "editable": true
   },
   "source": [
    "#### Step 5: Complete Project Write Up\n",
    "* Clearly state the rationale for the choice of tools and technologies for the project.\n",
    "* Propose how often the data should be updated and why.\n",
    "* Write a description of how you would approach the problem differently under the following scenarios:\n",
    " * The data was increased by 100x.\n",
    " * The data populates a dashboard that must be updated on a daily basis by 7am every day.\n",
    " * The database needed to be accessed by 100+ people."
   ]
  },
  {
   "cell_type": "code",
   "execution_count": null,
   "metadata": {
    "editable": true
   },
   "outputs": [],
   "source": []
  },
  {
   "cell_type": "code",
   "execution_count": null,
   "metadata": {
    "editable": true
   },
   "outputs": [],
   "source": []
  },
  {
   "cell_type": "code",
   "execution_count": null,
   "metadata": {
    "editable": true
   },
   "outputs": [],
   "source": []
  },
  {
   "cell_type": "code",
   "execution_count": null,
   "metadata": {
    "editable": true
   },
   "outputs": [],
   "source": []
  },
  {
   "cell_type": "code",
   "execution_count": null,
   "metadata": {
    "editable": true
   },
   "outputs": [],
   "source": []
  },
  {
   "cell_type": "code",
   "execution_count": null,
   "metadata": {
    "editable": true
   },
   "outputs": [],
   "source": []
  }
 ],
 "metadata": {
  "kernelspec": {
   "display_name": "Python 3",
   "language": "python",
   "name": "python3"
  },
  "language_info": {
   "codemirror_mode": {
    "name": "ipython",
    "version": 3
   },
   "file_extension": ".py",
   "mimetype": "text/x-python",
   "name": "python",
   "nbconvert_exporter": "python",
   "pygments_lexer": "ipython3",
   "version": "3.6.3"
  }
 },
 "nbformat": 4,
 "nbformat_minor": 4
}
